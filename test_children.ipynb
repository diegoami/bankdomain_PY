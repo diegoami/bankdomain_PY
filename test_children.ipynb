{
 "cells": [
  {
   "cell_type": "code",
   "execution_count": 1,
   "metadata": {},
   "outputs": [],
   "source": [
    "import spacy\n",
    "\n"
   ]
  },
  {
   "cell_type": "code",
   "execution_count": 2,
   "metadata": {},
   "outputs": [],
   "source": [
    "nlp = spacy.load('de')"
   ]
  },
  {
   "cell_type": "code",
   "execution_count": 3,
   "metadata": {},
   "outputs": [],
   "source": [
    "doc = nlp(\"Die Regelung garantiert Sicht- und Spareinlagen sowie registrierte Schuldverschreibungen, Bankobligationen und Sparbriefe.\")"
   ]
  },
  {
   "cell_type": "code",
   "execution_count": 5,
   "metadata": {},
   "outputs": [
    {
     "name": "stdout",
     "output_type": "stream",
     "text": [
      "Die DET ART []\n",
      "Regelung NOUN NN [Die]\n",
      "garantiert VERB VVFIN [Regelung, Spareinlagen, .]\n",
      "Sicht- X TRUNC []\n",
      "und CONJ KON [Sicht-]\n",
      "Spareinlagen NOUN NN [und, sowie]\n",
      "sowie CONJ KON [Schuldverschreibungen]\n",
      "registrierte ADJ ADJA []\n",
      "Schuldverschreibungen NOUN NN [registrierte, ,, Bankobligationen]\n",
      ", PUNCT $, []\n",
      "Bankobligationen NOUN NN [und]\n",
      "und CONJ KON [Sparbriefe]\n",
      "Sparbriefe NOUN NN []\n",
      ". PUNCT $. []\n"
     ]
    }
   ],
   "source": [
    "for token in doc:\n",
    "    print(token, token.pos_, token.tag_, [child for child in token.children])"
   ]
  },
  {
   "cell_type": "code",
   "execution_count": 9,
   "metadata": {},
   "outputs": [],
   "source": [
    "doc = nlp(\"Schutz für Giro- und Sparkonten (Tagesgeld- und Festgeldkonten)\")"
   ]
  },
  {
   "cell_type": "code",
   "execution_count": 10,
   "metadata": {},
   "outputs": [
    {
     "name": "stdout",
     "output_type": "stream",
     "text": [
      "Schutz NOUN NN [für]\n",
      "für ADP APPR [Sparkonten]\n",
      "Giro- X TRUNC []\n",
      "und CONJ KON [Giro-]\n",
      "Sparkonten NOUN NN [und, Festgeldkonten]\n",
      "( PUNCT $( []\n",
      "Tagesgeld- X TRUNC []\n",
      "und CONJ KON [Tagesgeld-]\n",
      "Festgeldkonten NOUN NN [(, und, )]\n",
      ") PUNCT $( []\n"
     ]
    }
   ],
   "source": [
    "for token in doc:\n",
    "    print(token, token.pos_, token.tag_, [child for child in token.children])"
   ]
  },
  {
   "cell_type": "code",
   "execution_count": null,
   "metadata": {},
   "outputs": [],
   "source": []
  }
 ],
 "metadata": {
  "kernelspec": {
   "display_name": "Python 3",
   "language": "python",
   "name": "python3"
  },
  "language_info": {
   "codemirror_mode": {
    "name": "ipython",
    "version": 3
   },
   "file_extension": ".py",
   "mimetype": "text/x-python",
   "name": "python",
   "nbconvert_exporter": "python",
   "pygments_lexer": "ipython3",
   "version": "3.6.5"
  }
 },
 "nbformat": 4,
 "nbformat_minor": 2
}
